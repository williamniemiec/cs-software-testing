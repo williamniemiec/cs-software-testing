{
  "nbformat": 4,
  "nbformat_minor": 0,
  "metadata": {
    "colab": {
      "provenance": [],
      "collapsed_sections": []
    },
    "kernelspec": {
      "name": "python3",
      "display_name": "Python 3"
    },
    "language_info": {
      "name": "python"
    }
  },
  "cells": [
    {
      "cell_type": "markdown",
      "source": [
        "# Material elaborado para a disciplina INF01214 - Teste de Software\n",
        "\n",
        "## 👥 Autores\n",
        "- Érika Fernandes Cota\n",
        "- William Niemiec\n",
        "\n",
        "\n",
        "---\n",
        "\n"
      ],
      "metadata": {
        "id": "-dQ_h7tNYg-t"
      }
    },
    {
      "cell_type": "markdown",
      "source": [
        "# ❇ Introdução\n",
        "\n",
        "O objetivo dessa atividade é apresentar algumas ferramentas de análise de cobertura de teste e testes de mutação. Ao final dessa atividade, você deverá ser capaz de:\n",
        "\n",
        "- Implementar testes unitários utilizando as funcionalidades básicas do JUnit;\n",
        "- Entender e avaliar uma ferramenta de análise de cobertura de testes;\n",
        "- Analisar o custo-benefício da análise de cobertura de critérios mais fortes;\n",
        "- Usar e analisar o custo-benefício de uma ferramenta de teste de mutação.\n",
        "\n",
        "Toda atividade será feita baseada no código abaixo ([arquivo Identifier.java](https://github.com/williamniemiec/cs-software-testing/blob/main/code/text/Identifier.java)). O programa consiste em determinar se um identificador é valido ou não. **Um identificador é considerado valido se ele começa com uma letra e contém apenas letras ou digitos**. Alem disso, deve ter no minimo 1 caractere e no maximo 6 caracteres de comprimento.\n",
        "\n",
        "**Observação:** O código está sendo apresentado em um formato que facilita a observação das questões envolvidas no teste. Ele poderia ser refatorado, mas não é o objetivo aqui 😉.\n",
        "\n",
        "```\n",
        "public class Identifier {\n",
        "\n",
        "\tpublic boolean validateIdentifier(String s) {\n",
        "\t\tif (s == null || s.length == 0) {\n",
        "\t\t\treturn false;\n",
        "\t\t}\n",
        "\t\tchar achar;\n",
        "\t\tboolean valid_id = false;\n",
        "\t\tachar = s.charAt(0);\n",
        "\t\tvalid_id = valid_s(achar);\n",
        "\t\tif (s.length() > 1) {\n",
        "\t\t\tachar = s.charAt(1);\n",
        "\t\t\tint i = 1;\n",
        "\t\t\twhile (i < s.length()) {\n",
        "\t\t\t\tachar = s.charAt(i);\n",
        "\t\t\t\tif (!valid_f(achar)) {\n",
        "\t\t\t\t\tvalid_id = false;\n",
        "\t\t\t\t}\n",
        "\t\t\t\ti++;\n",
        "\t\t\t}\n",
        "\t\t}\n",
        "\t\tif (valid_id && (s.length() >= 1) && (s.length() <= 6))\n",
        "\t\t\treturn true;\n",
        "\t\telse\n",
        "\t\t\treturn false;\n",
        "\t}\n",
        "\n",
        "\tprivate boolean valid_s(char ch) {\n",
        "\t\tif (((ch >= 'A') && (ch <= 'Z')) || ((ch >= 'a') && (ch <= 'z')))\n",
        "\t\t\treturn true;\n",
        "\t\telse\n",
        "\t\t\treturn false;\n",
        "\t}\n",
        "\n",
        "\tprivate boolean valid_f(char ch) {\n",
        "\t\tif (((ch >= 'A') && (ch <= 'Z')) || ((ch >= 'a') && (ch <= 'z')) || ((ch >= '0') && (ch <= '9')))\n",
        "\t\t\treturn true;\n",
        "\t\telse\n",
        "\t\t\treturn false;\n",
        "\t}\n",
        "}\n",
        "\n",
        "```\n"
      ],
      "metadata": {
        "id": "r44IfR8kvSGh"
      }
    },
    {
      "cell_type": "markdown",
      "source": [
        "# ✔ Requisitos necessários para a realização desta atividade:\n",
        "\n",
        "- [Eclipse 2019-06](https://www.eclipse.org/downloads/packages/release/2019-06) ou mais atualizado junto com os seguintes plugins (veja [aqui](http://demoiselle.sourceforge.net/docs/tools/nimble/1.2.1/html/eclipse.html) como instalar plugins):\n",
        "  - [AJDT dev builds for Eclipse 4.8](http://download.eclipse.org/tools/ajdt/48/dev/update);\n",
        "  - [Pitclipse](https://marketplace.eclipse.org/content/pitclipse).\n",
        "- [Java 12](https://www.oracle.com/java/technologies/javase/jdk12-archive-downloads.html) ou mais atualizado;\n",
        "- JUnit 4 ou 5."
      ],
      "metadata": {
        "id": "trUbc_oN1alV"
      }
    },
    {
      "cell_type": "markdown",
      "source": [
        "# 1. ⚙️  Importando projeto no Eclipse e preparando o ambiente\n",
        "\n",
        "1. Baixe o projeto da atividade ([clique aqui para baixar o .ZIP](https://github.com/williamniemiec/cs-software-testing/releases/download/v1.0.1/activity01.zip)).\n",
        "\n",
        "2. Descompacte o arquivo .ZIP\n",
        "\n",
        "3. Abra o Eclipse e importe o projeto que você acabou de descompactar (File -> Import -> General -> Projects from Folder ou Archive)\n",
        "\n",
        "4. Selecione `Directory` e informe o diretório do projeto que você descompactou\n",
        "\n",
        "5. Clique em `Finish`\n"
      ],
      "metadata": {
        "id": "gzmPFUCbvR7y"
      }
    },
    {
      "cell_type": "markdown",
      "source": [
        "# 2. 💪 Gerando casos de teste e executando com JUnit\n",
        "\n",
        "Agora que o projeto está configurado, é hora de colocar a mão na massa 🍝. Nessa parte, você irá aprender a criar testes unitários com JUnit. Se você já é familiarizado com JUnit, recomendamos que pule direto para a `Tarefa #01`."
      ],
      "metadata": {
        "id": "3BWDYvcExHdm"
      }
    },
    {
      "cell_type": "markdown",
      "source": [
        "## 2.1. Introdução a testes unitários com JUnit\n",
        "Quando vamos produzir testes unitários, utilizamos alguma API para auxiliar nesse processo. JUnit é uma dessas API para a criação de testes unitários em Java e [outras linguagem compatíveis com a JVM](https://github.com/williamniemiec/cs-software-testing/blob/main/pdf/silo.tips_conhecendo-as-principais-linguagens-para-jvm.pdf). A partir de anotações e algumas declarações, é possível avaliar classes e métodos para saber se eles estão funcionando conforme esperado. Uma das vantagens de usar uma API para a criação de testes unitários é que evitamos aquela prática horrível de criar um método main() em qualquer lugar do projeto apenas para saber se um certo trecho código está correto.\n",
        "\n",
        "### 2.1.1. Usando JUnit no eclipse\n",
        "Agora iremos ensinar como usar o JUnit em um projeto do Eclipse. Nesse tutorial, usamos o JUnit 4; contudo, existe uma nova versão (JUnit 5). O tutorial abaixo funciona tanto para JUnit 4 quanto para JUnit 5. Como o foco da atividade é apenas uma introdução ao JUnit, ele será abordado de forma superficial e, por isso, sugerimos que você confira mais nos materias disponibilizados a seguir:\n",
        "\n",
        "- [YouTube - JUnit 5 Tutorial For Beginners](https://www.youtube.com/watch?v=bx-ZtLbGDHw)\n",
        "- [Junit 5 Complete Tutorial](https://programmingtechie.com/2020/12/26/junit-5-complete-tutorial/)\n",
        "- [JUnit Tutorial For Beginners – What Is JUnit Testing](https://www.softwaretestinghelp.com/junit-tutorial/)\n",
        "\n",
        "**Copyright note:** O passo a passo, bem como imagens, foram extraídos de [material da Universidade de São Paulo](https://edisciplinas.usp.br/pluginfile.php/5768433/mod_resource/content/0/Utilizando%20JUnit%20no%20Eclipse.pdf).\n",
        "\n",
        "1. Selecione o projeto, clique com botão direito do mouse na opção `Build Path > Add Libraries...`;\n",
        "<div align=\"center\">\n",
        "    <img width=400 alt=\"step1\" src=\"https://raw.githubusercontent.com/williamniemiec/cs-software-testing/main/images/junit-1.png\" />\n",
        "</div>\n",
        "\n",
        "2. Selecione a opção `JUnit`, clique em `Next`;\n",
        "\n",
        "3. Escolha a versão `JUnit 4` e clique em `Finish`;\n",
        "\n",
        "<div align=\"center\">\n",
        "    <img width=400 alt=\"step2\" src=\"https://raw.githubusercontent.com/williamniemiec/cs-software-testing/main/images/junit-2.png\" />\n",
        "</div>\n",
        "\n",
        "4. Selecione a classe principal do programa para o qual será criado os casos de teste, clique com botão direito do mouse na opção `New` -> `JUnit Test Case`;\n",
        "\n",
        "5. Digite o nome do caso de teste e clique em `Next`;\n",
        "<div align=\"center\">\n",
        "    <img width=400 alt=\"step3\" src=\"https://raw.githubusercontent.com/williamniemiec/cs-software-testing/main/images/junit-3.png\" />\n",
        "</div>\n",
        "\n",
        "6. Selecione as classes que serão utilizadas no teste e clique em `Finish`;\n",
        "<div align=\"center\">\n",
        "    <img width=400 alt=\"step4\" src=\"https://raw.githubusercontent.com/williamniemiec/cs-software-testing/main/images/junit-4.png\" />\n",
        "</div>\n",
        "\n",
        "7. E criada a classe de teste onde devem ser implementados os casos de teste da classe sob teste;\n",
        "<div align=\"center\">\n",
        "    <img width=400 alt=\"step5\" src=\"https://raw.githubusercontent.com/williamniemiec/cs-software-testing/main/images/junit-5.png\" />\n",
        "</div>\n",
        "\n",
        "8. Para executar os testes feitos, clique com o botão direito na classe de teste e selecione `Coverage As -> JUnit Test`;\n",
        "<div align=\"center\">\n",
        "    <img width=400 alt=\"step6\" src=\"https://raw.githubusercontent.com/williamniemiec/cs-software-testing/main/images/junit-6.png\" />\n",
        "</div>\n",
        "\n",
        "<div align=\"center\">\n",
        "    <img alt=\"step7\" src=\"https://raw.githubusercontent.com/williamniemiec/cs-software-testing/main/images/junit-7.png\" />\n",
        "</div>\n",
        "\n",
        "### 2.1.2. Funcionalidades básicas do JUnit 4\n",
        "\n",
        "A criação de códigos de teste geralmente é composta de três passos:\n",
        "\n",
        "1. Reunir um conjunto de objetos e iniciá-los, se necessário;\n",
        "2. Fazer com esses objetos executem suas tarefas de acordo com um contexto;\n",
        "3. Assegurar que um resultado é aquele esperado.\n",
        "\n",
        "Para indicar que um método é um método de teste, usamos a anotação `@Test`, a qual informa ao JUnit que o método é um método de teste. Vale ressaltar que, para o JUnit, o nome do método não importa, visto que ele só identifica quais métodos são de teste através dessa anotação. Por fim, métodos anotados com a anotação `@Test` não devem retornar um valor.\n",
        "\n",
        "A seguir listaremos os principais métodos da classe Assertions para a construção dos testes unitários.\n",
        "\n",
        "#### 2.1.2.1. assertTrue\n",
        "\n",
        "Requer que a condição booleana seja verdadeira.\n",
        "\n",
        "> public static void assertTrue(boolean condition)\n",
        "\n",
        "#### 2.1.2.2. assertFalse\n",
        "Requer que a condição booleana seja falsa.\n",
        "\n",
        "> public static void assertFalse(boolean condition)\n",
        "\n",
        "\n",
        "#### 2.1.2.3. assertNull\n",
        "Requer que o valor informado como parâmetro seja nulo.\n",
        "\n",
        "> public static void assertNull(Object actual)\n",
        "\n",
        "#### 2.1.2.4. assertNotNull\n",
        "Requer que o valor informado como parâmetro não seja nulo.\n",
        "\n",
        "> public static void assertNotNull(Object actual)\n",
        "\n",
        "#### 2.1.2.5. assertEquals\n",
        "Requer que ambos os valores passados como parâmetro sejam verdadeiros.\n",
        "\n",
        "T = { byte, char, short, int, long, float, double, Object }\n",
        "\n",
        "> public static void assertEquals(T expected,  T actual);\n",
        "\n",
        "### 2.1.3. Estrutura de diretórios\n",
        "Projetos bem estruturados possuem uma boa estrutura de diretórios. Com o objetivo de facilitar a manuntenção do código, é recomendado separar código fonte de código de teste. O código fonte é armazenado em um diretório chamado `src` ao passo que os códigos de teste ficam em outro diretório chamado `test`. Por fim, uma outra convenção é nomear as classes de teste com o nome da classe testada acrescentando o sufixo `Test`. Por exemplo, se estamos criando testes para uma classe chamada `Informatica`, a classe de teste se chamaria `InformaticaTest`.\n",
        "\n"
      ],
      "metadata": {
        "id": "Gx6WMAxaQe96"
      }
    },
    {
      "cell_type": "markdown",
      "source": [
        "### ✏️ Tarefa \\#01\n",
        "\n",
        "1. Especifique um conjunto básico de testes para a classe Identifier e implemente-os na classe IdentifierTest.\n",
        "\n",
        "2. Execute os testes."
      ],
      "metadata": {
        "id": "pQqtP1uiVitB"
      }
    },
    {
      "cell_type": "code",
      "source": [],
      "metadata": {
        "id": "lD7R_Hj3WDZR"
      },
      "execution_count": null,
      "outputs": []
    },
    {
      "cell_type": "markdown",
      "source": [
        "### ✏️ Tarefa \\#02\n",
        "\n",
        "1. Qual é o critério de cobertura utilizado na ferramenta?\n",
        "\n",
        "2. Qual foi a cobertura? O que faltou?\n",
        "\n",
        "3. Qual seria uma taxa de cobertura razoável? Por que?\n",
        "\n",
        "4. Defina testes para atingir uma taxa de cobertura superior a 90% caso seu conjunto de testes não tenha atingido esse valor."
      ],
      "metadata": {
        "id": "mWJK1u9nQe3-"
      }
    },
    {
      "cell_type": "code",
      "source": [],
      "metadata": {
        "id": "PvXjmCbBVtqb"
      },
      "execution_count": null,
      "outputs": []
    },
    {
      "cell_type": "markdown",
      "source": [
        "# 3. 🦸‍♀️ Usando um critério de cobertura mais forte\n",
        "\n",
        "As frameworks de teste unitário utilizam o critério de cobertura de arestas ao invés da cobertura de nodos porque o primeiro engloba o segundo, além de outros casos, sendo mais forte que ele. Contudo, existe um critério mais forte e que engloba todos os outros, chamado `cobertura de caminhos primos (PPC - Prime Path Coverage)`. Ora, por que não se utiliza ele então? A resposta é simples: ele é mais difícil de se obter. Nessa seção, você aprenderá como utilizar esse critério de cobertura para avaliar a taxa de cobertura de seus testes gerados anteriormente com essa métrica. \n",
        "\n",
        "Para calcularmos a taxa de cobertura de um critério, precisamos de duas coisas: requisitos de teste e caminhos de teste executados, ambos descritos como sub-caminhos no CFG correspondente ao código sob teste. Após obter os dois, a taxa de cobertura será o total de requisitos de teste cobertos pelos caminhos de teste executados dividido pelo total de requisitos de teste. A seguir, veremos como obter cada um deles."
      ],
      "metadata": {
        "id": "OKZq6Y1TQepl"
      }
    },
    {
      "cell_type": "markdown",
      "source": [
        "## 3.1. Obtendo requisitos de teste\n",
        "\n",
        "Para obter os requisitos de teste, usaremos a técnica disponível em [site do Offut Graph Coverage](https://cs.gmu.edu:8443/offutt/coverage/GraphCoverage). Nela, precisamos informar o grafo de fluxo de controle (CFG) para que ele gere os requisitos de teste. Existem diversas formas para se gerar o grafo de fluxo de controle (como ferramentas e plugins para IDE), mas, como esse não é o foco desta atividade, iremos fornecê-lo para você:\n",
        "\n",
        "### 3.1.1. Informações sobre o CFG do método `Identifier.validateIdentifier(String)`:\n",
        "\n",
        "![](https://raw.githubusercontent.com/williamniemiec/cs-software-testing/main/images/cfg_identifier.png)\n",
        "\n",
        "- Arestas\n",
        "\n",
        "```\n",
        "4 5\n",
        "5 6\n",
        "6 7\n",
        "7 8\n",
        "8 9\n",
        "8 19\n",
        "9 10\n",
        "10 11\n",
        "11 12\n",
        "11 19\n",
        "12 13\n",
        "13 14\n",
        "13 16\n",
        "14 16\n",
        "16 11\n",
        "19 20\n",
        "19 22\n",
        "```\n",
        "\n",
        "- Nodo inicial\n",
        "\n",
        "```\n",
        "4\n",
        "```\n",
        "\n",
        "- Nodo final\n",
        "\n",
        "```\n",
        "20 22\n",
        "```\n",
        "\n",
        "### 3.1.2. Informações sobre o CFG do método `Identifier.valid_s(char)`:\n",
        "\n",
        "![](https://raw.githubusercontent.com/williamniemiec/cs-software-testing/main/images/cfg_valid_s.png)\n",
        "\n",
        "- Arestas\n",
        "\n",
        "```\n",
        "26 27\n",
        "26 29\n",
        "```\n",
        "\n",
        "- Nodo inicial\n",
        "\n",
        "```\n",
        "26\n",
        "```\n",
        "\n",
        "- Nodo final\n",
        "\n",
        "```\n",
        "27 29\n",
        "```\n",
        "\n",
        "### 3.1.3. Informações sobre o CFG do método `Identifier.valid_f(char)`:\n",
        "\n",
        "![](https://raw.githubusercontent.com/williamniemiec/cs-software-testing/main/images/cfg_valid_f.png)\n",
        "\n",
        "- Arestas\n",
        "\n",
        "```\n",
        "33 34\n",
        "33 36\n",
        "```\n",
        "\n",
        "- Nodo inicial\n",
        "\n",
        "```\n",
        "33\n",
        "```\n",
        "\n",
        "- Nodo final\n",
        "\n",
        "```\n",
        "34 36\n",
        "```"
      ],
      "metadata": {
        "id": "Bdu_H4kRxTee"
      }
    },
    {
      "cell_type": "markdown",
      "source": [
        "### ✏️ Tarefa \\#03\n",
        "\n",
        "1. Usando a ferramenta sugerida ([Offut Graph Coverage](https://cs.gmu.edu:8443/offutt/coverage/GraphCoverage)), gere os requisitos de teste para os métodos da classe Identifier usando o critério PPC.\n",
        "\n",
        "2. Quantos e quais requisitos de teste você achou?"
      ],
      "metadata": {
        "id": "9dr2KRMKd6B9"
      }
    },
    {
      "cell_type": "code",
      "source": [],
      "metadata": {
        "id": "7ynYg6HAd-R3"
      },
      "execution_count": null,
      "outputs": []
    },
    {
      "cell_type": "markdown",
      "source": [
        "## 3.2. Obtendo caminhos de teste\n",
        "\n",
        "Para obter o caminho de teste de um método, precisamos executar um teste e anotar o caminho percorrido durante sua execução. Para isso, utilizaremos a ferramenta, desenvolvida por nós, chamada [ExecutionFlow](https://github.com/williamniemiec/ExecutionFlow) - clique [aqui](https://github.com/williamniemiec/ExecutionFlow/releases/download/v8.0.2/executionflow-8.0.2.jar) para baixar o jar. Essa ferramenta gera os caminhos de teste de métodos e construtores executados por uma suite de teste. Isso pode ser feito para cada teste isoladamente ou para a suite de testes.\n",
        "\n",
        "### 3.2.1. Configurando o projeto para utilizar a ferramenta\n",
        "\n",
        "1. Com o Eclipse aberto, selecione o projeto importado inicialmente, clique com o botão direito nele, vá para `configure` e selecione a opção `Convert to AspectJ Project`:\n",
        "<div align=\"center\">\n",
        "    <img width=600 alt=\"step1\" src=\"https://github.com/williamniemiec/ExecutionFlow/blob/master/docs/img/howToUse/step1.png?raw=true\" />\n",
        "</div>\n",
        "\n",
        "2. Depois disso, selecione o projeto novamente, clique com o botão direito, vá para [`AspectJ Tools`](https://github.com/williamniemiec/ExecutionFlow/blob/master/lib/aspectjtools-1.9.6.jar) e selecione `Configure AspectJ Build Path`:\n",
        "<div align=\"center\">\n",
        "    <img width=600 alt=\"step2\" src=\"https://github.com/williamniemiec/ExecutionFlow/blob/master/docs/img/howToUse/step2.png?raw=true\" />\n",
        "</div>\n",
        "\n",
        "3. Vá para a tab `Inpath`, selecione `Add External JARs...` e escolha o [arquivo JAR da ferramenta ExecutionFlow](https://github.com/williamniemiec/ExecutionFlow/releases/download/v8.0.2/executionflow-8.0.2.jar):\n",
        "<div align=\"center\">\n",
        "    <img width=600 alt=\"step3\" src=\"https://github.com/williamniemiec/ExecutionFlow/blob/master/docs/img/howToUse/step3.png?raw=true\" />\n",
        "</div>\n",
        "\n",
        "4. Clique em `Apply and Close`:\n",
        "<div align=\"center\">\n",
        "    <img width=600 alt=\"step4\" src=\"https://github.com/williamniemiec/ExecutionFlow/blob/master/docs/img/howToUse/step4.png?raw=true\" />\n",
        "</div>\n",
        "\n",
        "5. Clique novamente com o botão direito no projeto, selecione `Build Path` e logo em seguida `Configure Build Path...`:\n",
        "<div align=\"center\">\n",
        "    <img width=600 alt=\"step5\" src=\"https://github.com/williamniemiec/ExecutionFlow/blob/master/docs/img/howToUse/step5.png?raw=true\" />\n",
        "</div>\n",
        "\n",
        "6. Clique em `Add External JARs...` e selecione o arquivo [`aspectjtools.jar`](https://github.com/williamniemiec/ExecutionFlow/raw/master/lib/aspectjtools-1.9.6.jar). Depois disso, clique em `Apply and Close`:\n",
        "<div align=\"center\">\n",
        "    <img width=600 alt=\"step6\" src=\"https://github.com/williamniemiec/ExecutionFlow/blob/master/docs/img/howToUse/step6.png?raw=true\" />\n",
        "</div>\n",
        "\n",
        "7. Com a ferramenta injetada no projeto, agora podemos utilizá-la para a geração dos caminhos de teste que queremos. Vá até a classe com os métodos de teste, clique com o botão direito no  **nome da classe de teste** e clique em `Run As` e em seguida `JUnit Test`.\n",
        "\n",
        "8. Selecione a opção `Info` e espere os caminhos de teste serem gerados.\n",
        "<div align=\"center\">\n",
        "    <img width=600 alt=\"step7\" src=\"https://raw.githubusercontent.com/williamniemiec/cs-software-testing/main/images/execution-flow.png\" />\n",
        "</div>\n",
        "\n",
        "9. Pronto! Os caminhos de teste estarão na raiz do projeto, na pasta `results`, conforme a estrutura descrita a seguir."
      ],
      "metadata": {
        "id": "WcXNAjcCtzdy"
      }
    },
    {
      "cell_type": "markdown",
      "source": [
        "### Video executando os passos acima (clique para dar play)\n",
        "\n",
        "[![Video demonstration](http://img.youtube.com/vi/1klRSltsSaA/0.jpg)](https://youtu.be/1klRSltsSaA?t=191 \"SBES 21 - Demonstration - ExecutionFlow: a tool to compute test paths of Java methods and constructors\")\n"
      ],
      "metadata": {
        "id": "iSR-7FcI4zPy"
      }
    },
    {
      "cell_type": "markdown",
      "source": [
        "### 3.2.2. 🖨 Entendendo o que foi gerado com a execução do ExecutionFlow\n",
        "\n",
        "Um diretório será criado (por padrão se chamará `results`) e nele serão criados subdiretórios no seguinte formato:\n",
        "> package_name/class_name.method_name(parameter_types)\n",
        "\n",
        "Por exemplo, suponha que usamos a ferramenta para gerar o caminho de teste do seguinte método:\n",
        "> controlFlow.TestClass_ControlFlow.ifElseMethod(int)\n",
        "\n",
        "Os caminhos de teste deste método serão armazenados nesse diretório (dentro da pasta `results`):\n",
        "> controlFlow/TestClass_ControlFlow.ifElseMethod(int)\n",
        "\n",
        "![](https://raw.githubusercontent.com/williamniemiec/ExecutionFlow/master/docs/img/schemas/export.png)\n",
        "\n",
        "Além do caminho de teste, são gerados outros arquivos, os quais, para quem tiver interesse, são explicados [aqui](https://github.com/williamniemiec/ExecutionFlow/wiki/Output#methods-called-by-tested-method--constructor)."
      ],
      "metadata": {
        "id": "g7y1C6-2vHnx"
      }
    },
    {
      "cell_type": "markdown",
      "source": [
        "### ✏️ Tarefa \\#04\n",
        "\n",
        "Quantos e quais foram os caminhos de teste que você encontrou?"
      ],
      "metadata": {
        "id": "ri37yWIvP85W"
      }
    },
    {
      "cell_type": "code",
      "source": [],
      "metadata": {
        "id": "CFkqDmtGfaY5"
      },
      "execution_count": null,
      "outputs": []
    },
    {
      "cell_type": "markdown",
      "source": [
        "## 3.3. 🧐 Cálculando a taxa de cobertura do PPC\n",
        "\n",
        "Com os requisitos e caminhos de teste gerados, iremos agora verificar qual a taxa de cobertura para o critério de caminhos primos (PPC). Para isso, você deve realizar o seguinte cálculo:\n",
        "\n",
        "```\n",
        "taxa_cobertura = (total_requisitos_teste_satisfeitos / total_requisitos_teste) * 100\n",
        "```\n",
        "\n",
        "**Nota:** Um requisito de teste é satisfeito se existe um caminho de teste que contenha esse requisito de teste."
      ],
      "metadata": {
        "id": "don6FJUE2aXM"
      }
    },
    {
      "cell_type": "markdown",
      "source": [
        "### ✏️ Tarefa \\#05\n",
        "\n",
        "Calcule a taxa de cobertura baseado nos caminhos de teste gerados em conjunto com os requisitos de teste considerando o critério PPC. Informe qual taxa de cobertura você obteve."
      ],
      "metadata": {
        "id": "3bswvNb3RhFo"
      }
    },
    {
      "cell_type": "code",
      "source": [],
      "metadata": {
        "id": "X3ulgbVDSGXq"
      },
      "execution_count": null,
      "outputs": []
    },
    {
      "cell_type": "markdown",
      "source": [
        "### ✏️ Tarefa \\#06\n",
        "\n",
        "Agora que você sabe o esforço necessário para obter a taxa de cobertura do PPC neste exemplo, você incluiria novos testes nessa suite para melhorar essa cobertura? Explique."
      ],
      "metadata": {
        "id": "OUl0RyG1QazG"
      }
    },
    {
      "cell_type": "code",
      "source": [],
      "metadata": {
        "id": "mpRrPhOahHUG"
      },
      "execution_count": null,
      "outputs": []
    },
    {
      "cell_type": "markdown",
      "source": [
        "# 4. 🧟 Usando testes de mutação\n",
        "\n",
        "Agora iremos utilizar uma outra técnica para avaliação de testes: testes de mutação. Para isso, iremos utilizar o plugin [Pitclipse](https://marketplace.eclipse.org/content/pitclipse).\n",
        "\n",
        "1. Vá até a classe com os métodos de teste, clique com o botão direito no  nome da classe de teste e clique em `Run As` e em seguida `PIT Mutation Test`.\n",
        "\n",
        "2. Após o final da execução, vá até a aba `PIT Summary`, onde terá a taxa de cobertuda de seus testes relativo aos testes de mutação. Abaixo está um exemplo da geração desse relatório após a execução do PIT em um método de teste qualquer.\n",
        "\n",
        "![](https://raw.githubusercontent.com/williamniemiec/cs-software-testing/main/images/pit-report.png)\n"
      ],
      "metadata": {
        "id": "_MNDzYzUhOBk"
      }
    },
    {
      "cell_type": "markdown",
      "source": [
        "### ✏️ Tarefa \\#07\n",
        "\n",
        "Qual foi a taxa de mutação obtida? Quais conclusões você tira dos testes que você criou baseado nessa taxa?"
      ],
      "metadata": {
        "id": "P14nk3Rck_Q8"
      }
    },
    {
      "cell_type": "code",
      "source": [],
      "metadata": {
        "id": "JTKlGpUklNNI"
      },
      "execution_count": null,
      "outputs": []
    },
    {
      "cell_type": "markdown",
      "source": [
        "### ✏️ Tarefa \\#08\n",
        "\n",
        "Realize uma comparação entre a taxa de cobertura de mutação obtida e a taxa de cobertura de caminhos primos. Houve uma diferença significativa? Diga sua interpretação"
      ],
      "metadata": {
        "id": "z2zr2OvskbTz"
      }
    },
    {
      "cell_type": "code",
      "source": [],
      "metadata": {
        "id": "dappXa-Fkx-E"
      },
      "execution_count": null,
      "outputs": []
    },
    {
      "cell_type": "markdown",
      "source": [
        "### ✏️ Tarefa \\#09\n",
        "\n",
        "Compare a avaliação de testes usando mutação e critérios de cobertura. Em quais situações é mais adequado usar um ou outro? Um substitui o outro, são rivais ou se complementam? Você já utilizou algum em uma situação real?"
      ],
      "metadata": {
        "id": "DD4tSunrkxVK"
      }
    },
    {
      "cell_type": "code",
      "source": [],
      "metadata": {
        "id": "dsDUdAeMl0JL"
      },
      "execution_count": null,
      "outputs": []
    },
    {
      "cell_type": "markdown",
      "source": [
        "Por fim, diga o que você achou dessa atividade e se você considera que ela contribuiu para reforçar os conceitos vistos em aula. Sugestões são bem vindas 😊"
      ],
      "metadata": {
        "id": "2aWvBrp8Oi9Y"
      }
    },
    {
      "cell_type": "code",
      "source": [],
      "metadata": {
        "id": "VeWrskn8OjYY"
      },
      "execution_count": null,
      "outputs": []
    },
    {
      "cell_type": "markdown",
      "source": [
        "# Referências\n",
        "\n",
        "- [Paper sobre a ferramenta ExecutionFlow (PDF)](https://github.com/williamniemiec/williamniemiec/raw/main/papers/2021/%5BSBES21%5D%20ExecutionFlow%20-%20a%20tool%20to%20compute%20test%20paths%20of%20Java%20methods%20and%20constructors.pdf)\n",
        "- [Ferramenta ExecutionFlow (GITHUB)](https://github.com/williamniemiec/ExecutionFlow)\n",
        "- Paul Ammann and Jeff Offutt. 2016. Introduction to Software Testing (2 ed.).\n",
        "Cambridge University Press. https://doi.org/10.1017/9781316771273\n",
        "- JIA, Yue; HARMAN, Mark. An analysis and survey of the development of mutation testing. IEEE transactions on software engineering, v. 37, n. 5, p. 649-678, 2010.\n",
        "- Akbar Siami Namin. 2008. Mutation analysis in software testing. Ph.D. Dissertation. University of Western Ontario, CAN. Order Number: AAINR43092.\n",
        "- WONG, W. Eric (Ed.). Mutation testing for the new century. Springer Science & Business Media, 2001.\n",
        "- MERKOW, Mark S.; RAGHAVAN, Lakshmikanth. Secure and resilient software: Requirements, test cases, and testing methods. CRC Press, 2011.\n",
        "- DOLINER, M.; OTHERS. Cobertura - a code coverage utility for java. 2005.\n",
        "<https://cobertura.github.io/cobertura/>. (Accessed on 08/15/2022).\n",
        "- BARBOSA, Ellen Francine et al. Introdução ao teste de software. Minicurso apresentado no XIV Simpósio Brasileiro de Engenharia de Software (SBES 2000), 2000.\n"
      ],
      "metadata": {
        "id": "_jfejURuQjnN"
      }
    }
  ]
}